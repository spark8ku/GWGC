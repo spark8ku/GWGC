{
 "cells": [
  {
   "cell_type": "code",
   "execution_count": null,
   "id": "ca7d1561-ea38-4854-bf32-cfe97893fa09",
   "metadata": {},
   "outputs": [],
   "source": [
    "from .conv_input_Gauss_function import *"
   ]
  }
 ],
 "metadata": {
  "kernelspec": {
   "display_name": "ksw",
   "language": "python",
   "name": "ksw"
  },
  "language_info": {
   "codemirror_mode": {
    "name": "ipython",
    "version": 3
   },
   "file_extension": ".py",
   "mimetype": "text/x-python",
   "name": "python",
   "nbconvert_exporter": "python",
   "pygments_lexer": "ipython3",
   "version": "3.12.2"
  }
 },
 "nbformat": 4,
 "nbformat_minor": 5
}
