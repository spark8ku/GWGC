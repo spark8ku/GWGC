{
 "cells": [
  {
   "cell_type": "code",
   "execution_count": 1,
   "id": "fbde4b3f-31ec-45ef-a9a2-a47094339f5e",
   "metadata": {},
   "outputs": [],
   "source": [
    "import numpy as np\n",
    "import pandas as pd\n",
    "import sklearn\n",
    "from rdkit import Chem\n",
    "\n",
    "import xgboost as xgboost\n",
    "import catboost as catboost\n",
    "from sklearn import ensemble\n",
    "from sklearn import metrics\n",
    "from sklearn.model_selection import train_test_split\n",
    "from sklearn.model_selection import KFold\n",
    "from sklearn.model_selection import cross_val_score\n",
    "from sklearn.model_selection import GridSearchCV\n",
    "from sklearn.preprocessing import StandardScaler\n",
    "from bayes_opt import BayesianOptimization\n",
    "from rdkit.Chem import AllChem"
   ]
  },
  {
   "cell_type": "markdown",
   "id": "a4b79237-b608-41a0-ad61-c1877e258257",
   "metadata": {},
   "source": [
    "# OPtimizing GWGC with Emission Wavelength Data"
   ]
  },
  {
   "cell_type": "code",
   "execution_count": 2,
   "id": "be19f681-0da6-4e29-809b-23868426e47f",
   "metadata": {},
   "outputs": [],
   "source": [
    "cuma_branch_sol_emi = pd.read_csv(\"../data/cuma_branch in D4C DB/cuma_branch_sol_emi.csv\")"
   ]
  },
  {
   "cell_type": "markdown",
   "id": "9d7f33d6-5776-4256-a7d8-8b5e62a5f202",
   "metadata": {},
   "source": [
    "## XGBoost"
   ]
  },
  {
   "cell_type": "code",
   "execution_count": null,
   "id": "f3086a01-5f5c-4c41-bb5a-9e3588a35bd8",
   "metadata": {
    "scrolled": true
   },
   "outputs": [],
   "source": [
    "# cv\n",
    "from functions.conv_input_Gauss_function import bayesian_with_data_cv_mol_test as finalopt\n",
    "finalopt('Emi', cuma_branch_sol_emi, 0.1, 'xgb', './opt_cv_emi_xgb.txt', True).bayesinan_cv_with_custom_folds()"
   ]
  },
  {
   "cell_type": "markdown",
   "id": "843d8134-2474-4e13-be6c-69bd4d1b038d",
   "metadata": {},
   "source": [
    "## CatBoost"
   ]
  },
  {
   "cell_type": "code",
   "execution_count": null,
   "id": "8f22d946-6346-4135-91a2-0b3e3f460968",
   "metadata": {
    "scrolled": true
   },
   "outputs": [],
   "source": [
    "# cv\n",
    "from functions.conv_input_Gauss_function import bayesian_with_data_cv_mol_test as finalopt\n",
    "finalopt('Emi', cuma_branch_sol_emi, 0.1, 'cat', './opt_cv_emi_cat.txt', True).bayesinan_cv_with_custom_folds()"
   ]
  },
  {
   "cell_type": "markdown",
   "id": "1f093f3d-ce09-452b-a780-1a253eb0ccc3",
   "metadata": {},
   "source": [
    "## LightGBM"
   ]
  },
  {
   "cell_type": "code",
   "execution_count": null,
   "id": "00158a33-84bf-4f51-a28a-cf983644b35a",
   "metadata": {},
   "outputs": [],
   "source": [
    "# cv\n",
    "from functions.conv_input_Gauss_function import bayesian_with_data_cv_mol_test as finalopt\n",
    "finalopt('Emi', cuma_branch_sol_emi, 0.1, 'light', './opt_cv_emi_light.txt', True).bayesinan_cv_with_custom_folds()"
   ]
  },
  {
   "cell_type": "markdown",
   "id": "de410ee3-0563-4424-a974-42249dc2eb97",
   "metadata": {},
   "source": [
    "## RandomForest"
   ]
  },
  {
   "cell_type": "code",
   "execution_count": null,
   "id": "0c07bed7-b73d-476e-a7f1-0fb42da8927c",
   "metadata": {},
   "outputs": [],
   "source": [
    "# cv\n",
    "from functions.conv_input_Gauss_function import bayesian_with_data_cv_mol_test as finalopt\n",
    "finalopt('Emi', cuma_branch_sol_emi, 0.1, 'rnd', './opt_cv_emi_rnd.txt', True).bayesinan_cv_with_custom_folds()"
   ]
  }
 ],
 "metadata": {
  "kernelspec": {
   "display_name": "ksw",
   "language": "python",
   "name": "ksw"
  },
  "language_info": {
   "codemirror_mode": {
    "name": "ipython",
    "version": 3
   },
   "file_extension": ".py",
   "mimetype": "text/x-python",
   "name": "python",
   "nbconvert_exporter": "python",
   "pygments_lexer": "ipython3",
   "version": "3.12.2"
  }
 },
 "nbformat": 4,
 "nbformat_minor": 5
}
