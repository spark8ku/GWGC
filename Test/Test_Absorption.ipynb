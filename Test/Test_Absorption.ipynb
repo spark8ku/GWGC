{
 "cells": [
  {
   "cell_type": "code",
   "execution_count": 1,
   "id": "fbde4b3f-31ec-45ef-a9a2-a47094339f5e",
   "metadata": {},
   "outputs": [],
   "source": [
    "import numpy as np\n",
    "import pandas as pd\n",
    "import sklearn\n",
    "from rdkit import Chem\n",
    "\n",
    "import xgboost as xgboost\n",
    "import catboost as catboost\n",
    "from sklearn import ensemble\n",
    "from sklearn import metrics\n",
    "from sklearn.model_selection import train_test_split\n",
    "from sklearn.model_selection import KFold\n",
    "from sklearn.model_selection import cross_val_score\n",
    "from sklearn.model_selection import GridSearchCV\n",
    "from sklearn.preprocessing import StandardScaler\n",
    "from bayes_opt import BayesianOptimization\n",
    "from rdkit.Chem import AllChem"
   ]
  },
  {
   "cell_type": "code",
   "execution_count": 2,
   "id": "cc011ebd-d1bf-4411-b1d5-d2cce84abc66",
   "metadata": {},
   "outputs": [],
   "source": [
    "def make_test_set_split_only_by_mol(data, test_ratio, random_state = 42):\n",
    "        mol_class = data[\"Chromophore_smiles\"].drop_duplicates()\n",
    "        mol_train = mol_class.sample(frac = (1-test_ratio), random_state = random_state)\n",
    "        mol_test = mol_class.loc[list(set(list(mol_class.index))-set(list(mol_train.index)))]\n",
    "        \n",
    "        cv_set = pd.DataFrame()\n",
    "        for mol in mol_train:\n",
    "            cv_set = pd.concat([cv_set, data[data[\"Chromophore_smiles\"] == mol]],axis=0)\n",
    "\n",
    "        test_set = pd.DataFrame()\n",
    "        for mol in mol_test:\n",
    "            test_set = pd.concat([test_set, data[data[\"Chromophore_smiles\"] == mol]],axis=0)\n",
    "\n",
    "        return cv_set, test_set"
   ]
  },
  {
   "cell_type": "markdown",
   "id": "a4b79237-b608-41a0-ad61-c1877e258257",
   "metadata": {},
   "source": [
    "# Absoption Wavelength"
   ]
  },
  {
   "cell_type": "code",
   "execution_count": 3,
   "id": "be19f681-0da6-4e29-809b-23868426e47f",
   "metadata": {},
   "outputs": [],
   "source": [
    "cuma_branch_sol_abs = pd.read_csv(\"../data/cuma_branch in D4C DB/cuma_branch_sol_abs.csv\")\n",
    "cv_set, test_set = make_test_set_split_only_by_mol(cuma_branch_sol_abs, 0.2)"
   ]
  },
  {
   "cell_type": "markdown",
   "id": "c4e0f052-21e1-483c-a901-0a4c134dc148",
   "metadata": {},
   "source": [
    "# Optimized Parameters Applied\n",
    "The model is using the optimized parameters obtained through the GWGC-optimization process."
   ]
  },
  {
   "cell_type": "markdown",
   "id": "9d7f33d6-5776-4256-a7d8-8b5e62a5f202",
   "metadata": {},
   "source": [
    "## Test set performacne: XGBoost"
   ]
  },
  {
   "cell_type": "code",
   "execution_count": null,
   "id": "56deb37a-c4bb-41f0-a315-893f071445d9",
   "metadata": {
    "scrolled": true
   },
   "outputs": [],
   "source": [
    "# GWGC parameters\n",
    "from functions.conv_input_Gauss_function import one_touch_representation_Gauss\n",
    "input_final = one_touch_representation_Gauss(cuma_branch_sol_abs,  6,  6*( 8.154810535610794/10), True)\n",
    "\n",
    "# test set\n",
    "Y = np.array(cuma_branch_sol_abs['Abs']).reshape(-1,1)\n",
    "scaler = StandardScaler()\n",
    "scaler.fit(Y)\n",
    "\n",
    "cv_idx=list(cv_set.index)\n",
    "cv_input = input_final[cv_idx,:]\n",
    "cv_label = np.array(cv_set['Abs']).flatten()\n",
    "scaled_cv_label = scaler.transform(cv_label.reshape(-1,1))\n",
    "\n",
    "test_idx=list(test_set.index)\n",
    "test_input = input_final[test_idx,:]\n",
    "test_label = np.array(test_set['Abs']).flatten()\n",
    "\n",
    "xgb = xgboost.XGBRegressor(n_estimators = 82, learning_rate= 0.17041209198212898, subsample =0.839665562703557, max_depth = 9, random_state=42)\n",
    "\n",
    "xgb.fit(cv_input, scaled_cv_label.flatten())\n",
    "xgb_predict=xgb.predict(test_input)\n",
    "xgb_mae= metrics.mean_absolute_error(test_label, scaler.inverse_transform(xgb_predict.reshape(-1,1)))\n",
    "xgb_rmse= np.sqrt(metrics.mean_squared_error(test_label, scaler.inverse_transform(xgb_predict.reshape(-1,1))))\n",
    "xgb_r2= metrics.r2_score(test_label, scaler.inverse_transform(xgb_predict.reshape(-1,1)))\n",
    "print(f'Abs_XGB_MAE : {xgb_mae}\\nAbs_XGB_RMSE : {xgb_rmse}\\nAbs_XGB_R2 :{xgb_r2}' )"
   ]
  },
  {
   "cell_type": "markdown",
   "id": "843d8134-2474-4e13-be6c-69bd4d1b038d",
   "metadata": {},
   "source": [
    "## Test set performance: CatBoost"
   ]
  },
  {
   "cell_type": "code",
   "execution_count": null,
   "id": "16988502-cf10-4fed-8724-af087ba2039d",
   "metadata": {
    "scrolled": true
   },
   "outputs": [],
   "source": [
    "# GWGC parameters\n",
    "from functions.conv_input_Gauss_function import one_touch_representation_Gauss\n",
    "input_final = one_touch_representation_Gauss(cuma_branch_sol_abs, 11,  11*( 1.1242731721231125/10), True)\n",
    "\n",
    "# test set\n",
    "Y = np.array(cuma_branch_sol_abs['Abs']).reshape(-1,1)\n",
    "scaler = StandardScaler()\n",
    "scaler.fit(Y)\n",
    "\n",
    "cv_idx=list(cv_set.index)\n",
    "cv_input = input_final[cv_idx,:]\n",
    "cv_label = np.array(cv_set['Abs']).flatten()\n",
    "scaled_cv_label = scaler.transform(cv_label.reshape(-1,1))\n",
    "\n",
    "test_idx=list(test_set.index)\n",
    "test_input = input_final[test_idx,:]\n",
    "test_label = np.array(test_set['Abs']).flatten()\n",
    "\n",
    "cat = catboost.CatBoostRegressor(silent = True, learning_rate=0.07148493031894261, depth = 7, l2_leaf_reg = 3)\n",
    "\n",
    "cat.fit(cv_input, scaled_cv_label.flatten())\n",
    "cat_predict=cat.predict(test_input)\n",
    "cat_mae= metrics.mean_absolute_error(test_label, scaler.inverse_transform(cat_predict.reshape(-1,1)))\n",
    "cat_rmse= np.sqrt(metrics.mean_squared_error(test_label, scaler.inverse_transform(cat_predict.reshape(-1,1))))\n",
    "cat_r2= metrics.r2_score(test_label, scaler.inverse_transform(cat_predict.reshape(-1,1)))\n",
    "print(f'Abs_Cat_MAE : {cat_mae}\\nAbs_Cat_RMSE : {cat_rmse}\\nAbs_Cat_R2 :{cat_r2}' )"
   ]
  },
  {
   "cell_type": "markdown",
   "id": "de410ee3-0563-4424-a974-42249dc2eb97",
   "metadata": {},
   "source": [
    "## Test set performance: RandomForest"
   ]
  },
  {
   "cell_type": "code",
   "execution_count": null,
   "id": "5266631b-5060-442b-b9ce-55bfbc346702",
   "metadata": {
    "scrolled": true
   },
   "outputs": [],
   "source": [
    "# GWGC parameters\n",
    "from functions.conv_input_Gauss_function import one_touch_representation_Gauss\n",
    "input_final = one_touch_representation_Gauss(cuma_branch_sol_abs, 2,  2*( 8.681260573682142/10), True)\n",
    "\n",
    "# test set\n",
    "Y = np.array(cuma_branch_sol_abs['Abs']).reshape(-1,1)\n",
    "scaler = StandardScaler()\n",
    "scaler.fit(Y)\n",
    "\n",
    "cv_idx=list(cv_set.index)\n",
    "cv_input = input_final[cv_idx,:]\n",
    "cv_label = np.array(cv_set['Abs']).flatten()\n",
    "scaled_cv_label = scaler.transform(cv_label.reshape(-1,1))\n",
    "\n",
    "test_idx=list(test_set.index)\n",
    "test_input = input_final[test_idx,:]\n",
    "test_label = np.array(test_set['Abs']).flatten()\n",
    "\n",
    "np.random.seed(42)\n",
    "random_states_list = np.random.choice(range(0, 1000), size=100, replace=False)\n",
    "\n",
    "mae=[]\n",
    "rmse=[]\n",
    "r2=[]\n",
    "for rs in random_states_list:\n",
    "    rnd=ensemble.RandomForestRegressor(n_estimators = 74, max_depth= 199, random_state=rs)\n",
    "    \n",
    "    rnd.fit(cv_input, scaled_cv_label.flatten())\n",
    "    rnd_predict=rnd.predict(test_input)\n",
    "    rnd_mae= metrics.mean_absolute_error(test_label, scaler.inverse_transform(rnd_predict.reshape(-1,1)))\n",
    "    rnd_rmse= np.sqrt(metrics.mean_squared_error(test_label, scaler.inverse_transform(rnd_predict.reshape(-1,1))))\n",
    "    rnd_r2= metrics.r2_score(test_label, scaler.inverse_transform(rnd_predict.reshape(-1,1)))\n",
    "    mae.append(rnd_mae)\n",
    "    rmse.append(rnd_rmse)\n",
    "    r2.append(rnd_r2)\n",
    "rnd_mae=np.mean(mae)\n",
    "rnd_rmse=np.mean(rmse)\n",
    "rnd_r2=np.mean(r2)\n",
    "\n",
    "print(f'Abs_RF_MAE : {rnd_mae}\\nAbs_RF_RMSE : {rnd_rmse}\\nAbs_RF_R2 :{rnd_r2}' )"
   ]
  }
 ],
 "metadata": {
  "kernelspec": {
   "display_name": "ksw",
   "language": "python",
   "name": "ksw"
  },
  "language_info": {
   "codemirror_mode": {
    "name": "ipython",
    "version": 3
   },
   "file_extension": ".py",
   "mimetype": "text/x-python",
   "name": "python",
   "nbconvert_exporter": "python",
   "pygments_lexer": "ipython3",
   "version": "3.12.2"
  }
 },
 "nbformat": 4,
 "nbformat_minor": 5
}
